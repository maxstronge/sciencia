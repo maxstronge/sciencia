{
 "cells":[
  {
   "cell_type":"markdown",
   "source":[
    "# PHYS 481 Assignment 5: Monte Carlo Methods 1\n",
    "## Oct 31 before class starts (15:30)\n",
    "\n",
    "### Monica A. Bellamy (3009896)\n",
    "### Sachin Sharma (30118711)\n",
    "### Max Stronge (30064749) \n",
    "\n",
    "\n",
    "This assignment will introduce some basic concepts in Monte Carlo methods. Remember to write an\n",
    "introduction [2 pts] and conclusion [2 pts]."
   ],
   "attachments":{
    
   },
   "metadata":{
    "datalore":{
     "node_id":"94myosYfqEOlthZvo2oSyZ",
     "type":"MD",
     "hide_input_from_viewers":true,
     "hide_output_from_viewers":true
    }
   }
  },
  {
   "cell_type":"code",
   "source":[
    "# Load standard libraries for numerical methods and plotting.\n",
    "# This same block will start almost every assignment in PHYS 481.\n",
    "import numpy as np\n",
    "import matplotlib.pyplot as plt\n",
    "%matplotlib inline"
   ],
   "execution_count":1,
   "outputs":[
    
   ],
   "metadata":{
    "datalore":{
     "node_id":"n5RTcEEM6WboBCMNs1iSN4",
     "type":"CODE",
     "hide_input_from_viewers":true,
     "hide_output_from_viewers":true
    }
   }
  },
  {
   "cell_type":"markdown",
   "source":[
    "## Introduction\n",
    "------------\n",
    "<span style=\"color:palevioletred;\"> In this assignment, we explore of probabilistic and computational challenges via Monte Carlo simulations. The task consists of four distinct questions, each probing different aspects of probability, estimation, and numerical integration. From analyzing game show strategies to investigating the birthday paradox, estimating high-dimensional hypersphere volumes, and conducting Monte Carlo integration in varying dimensions, we aim to gain a nuanced understanding of fundamental principles. Our objective is to derive probabilities and calculations while providing insightful commentary on the results."
   ],
   "attachments":{
    
   },
   "metadata":{
    "datalore":{
     "node_id":"231aiSfcomNxT73Gr7UEgU",
     "type":"MD",
     "hide_input_from_viewers":true,
     "hide_output_from_viewers":true
    }
   }
  },
  {
   "cell_type":"markdown",
   "source":[
    "## Question 1 [4 pts]\n",
    "\n",
    "On a game show, a prize is randomly placed behind 1 of 3 doors and the contestant is asked to guess\n",
    "which door hides the prize. After the contestant guesses, the host opens one of the 2 remaining doors:\n",
    "the one they know does not contain the prize (if neither door contains the prize, they open one at\n",
    "random). The contestant may then choose to change their guess or stick with their original guess before\n",
    "the prize is revealed. They win the prize if their final guess is correct. Given 2 contestants, one of whom\n",
    "always changes their guess and one who never changes their guess, how often is each expected to win?\n",
    "\n",
    "• Simulate this problem using at least 100 thousand trials. Report the 2 probabilities and give a standard uncertainty in your estimate.\n",
    "\n",
    "• You may assume that the prize is hidden behind the door you label as “door 1”. Since the labelling is arbitrary, that does not affect the generality of the result and may be easier to code.\n",
    "\n",
    "• See lecture slides for more discussion.\n",
    "\n",
    "• Comment on your results. Does this agree with your intuition? Can you explain it?"
   ],
   "attachments":{
    
   },
   "metadata":{
    "datalore":{
     "node_id":"jpSd3GhshiPLWhE8BVFu5J",
     "type":"MD",
     "hide_input_from_viewers":true,
     "hide_output_from_viewers":true
    }
   }
  },
  {
   "cell_type":"code",
   "source":[
    "# Question 1\n",
    "\n",
    "def game_show_simulation(num_trials):\n",
    "    \"\"\"Simulate the game show scenario with two contestants: one who never changes their guess,\n",
    "    and one who always changes. Calculate the probabilities of winning for both strategies.\n",
    "\n",
    "    Parameters:\n",
    "    num_trials (integer): Number of simulation trials.\n",
    "\n",
    "    Returns:\n",
    "    - Probability of winning without changing guess (float)\n",
    "    - and probability of winning by always changing guess (also float)\n",
    "    \"\"\"\n",
    "    # Generate random prize locations and initial guesses\n",
    "    prize_locations = np.random.randint(1, 4, num_trials)\n",
    "    initial_guesses = np.random.randint(1, 4, num_trials)\n",
    "    opened_doors = np.zeros(num_trials, dtype=int)\n",
    "\n",
    "    # Simulate the host opening doors\n",
    "    for i in range(num_trials):\n",
    "        remaining_doors = [1, 2, 3]\n",
    "        remaining_doors.remove(initial_guesses[i])\n",
    "        if prize_locations[i] != initial_guesses[i]:\n",
    "            remaining_doors.remove(prize_locations[i])\n",
    "        opened_doors[i] = np.random.choice(remaining_doors)\n",
    "\n",
    "    # Contestant who never changes their guess\n",
    "    win_count_no_change = np.sum(initial_guesses == prize_locations)\n",
    "\n",
    "    # Contestant who always changes their guess\n",
    "    new_guesses = 6 - initial_guesses - opened_doors\n",
    "    win_count_change = np.sum(new_guesses == prize_locations)\n",
    "\n",
    "    probability_no_change = win_count_no_change \/ num_trials\n",
    "    probability_change = win_count_change \/ num_trials\n",
    "\n",
    "    return probability_no_change, probability_change\n",
    "\n",
    "def plot_results(probabilities):\n",
    "    \"\"\"Plot the results of the game show simulation.\n",
    "\n",
    "    Parameters:\n",
    "    - probabilities (float): Probabilities of winning for different strategies.\n",
    "    \"\"\"\n",
    "    strategies = ['No Change', 'Always Change']\n",
    "\n",
    "    # Plotting Properties\n",
    "    plt.bar(strategies, probabilities)\n",
    "    plt.ylabel('Probability of Winning')\n",
    "    plt.title('Game Show Strategy Simulation')\n",
    "    plt.show()\n",
    "\n",
    "# Perform the simulation with at least 100,000 trials according to assignment\n",
    "num_trials = 100000\n",
    "probability_no_change, probability_change = game_show_simulation(num_trials)\n",
    "\n",
    "# This is to easily visualize and indicate the results\n",
    "print(\"Probability of winning without changing guess:\", probability_no_change)\n",
    "print(\"Probability of winning by always changing guess:\", probability_change)\n",
    "\n",
    "# Call helper function 'plot_results()' to plot the results :D\n",
    "plot_results([probability_no_change, probability_change])"
   ],
   "execution_count":6,
   "outputs":[
    {
     "name":"stdout",
     "text":[
      "Probability of winning without changing guess: 0.33449\n",
      "Probability of winning by always changing guess: 0.66551\n"
     ],
     "output_type":"stream"
    },
    {
     "data":{
      "image\/png":"[encoded data removed]"
     },
     "metadata":{
      "image\/png":{
       
      }
     },
     "output_type":"display_data"
    }
   ],
   "metadata":{
    "datalore":{
     "node_id":"Mw3AQz4maq2YLsKrUzeVFC",
     "type":"CODE",
     "hide_input_from_viewers":true,
     "hide_output_from_viewers":true
    }
   }
  },
  {
   "cell_type":"markdown",
   "source":[
    "Comments #1\n",
    "-----------------\n",
    "Comment on your results. Does this agree with your intuition? Can you explain it?\n",
    "\n",
    "<span style=\"color:palevioletred;\"> The simulation results contradicts my initial intuition since after the game show host opens one of the doors without a prize in it, I would think that you had a 50\/50 chance between the two remaining doors, regardless of strategy. But clearly this is not the case! In actuality, the person who always changes their answer has ~2\/3 chance to win while the person who never chanegs has ~1\/3 chance to win.\n",
    "\n",
    "<span style=\"color:palevioletred;\"> To explain, lets start with the person with no change. From the beginning, they indeed have a ~1\/3 chance to have the correct guess, ~2\/3 chance to have the incorrect guess, and not changing their answer means that this probability stays the same throughout. On the other hand, the person who always changes their guess still has the same starting probability of being correct as the first person of ~1\/3. But when the host reveals one of the wrong answers (doors), the current guess still has ~2\/3 chance to lose just like the first person since it stays the same throughout. Therefore, switching is the better strategy because it capitalizes on that initial 2\/3 probability of making the wrong choice. \n",
    "\n",
    "<span style=\"color:palevioletred;\"> In simpler terms, you're most likely to be incorrect ~2\/3 of the time. But after the host reveals one of the incorrect answers, it is basically removing 1\/3 from your likelihood of being incorrect. Consequently increasing your chance of winning by the same amount. If you had ~1\/3 chance of winning, then it must go up to ~2\/3 which is what is illustrated in our results!"
   ],
   "attachments":{
    
   },
   "metadata":{
    "datalore":{
     "node_id":"n6TUvvFFW59XvnrDYssOSs",
     "type":"MD",
     "hide_input_from_viewers":true,
     "hide_output_from_viewers":true
    }
   }
  },
  {
   "cell_type":"markdown",
   "source":[
    "## Question 2 [4 pts]\n",
    "\n",
    "Given a room with 𝑁 people in it, what is the probability that at least 2 of them share the same\n",
    "birthday?\n",
    "\n",
    "• Simulate this problem (don’t compute the analytic result) for 𝑁 up to 50 and graph the probability as a function of 𝑁, including 2𝜎 error bars.\n",
    "\n",
    "• Choose the number of Monte Carlo iterations for each simulation so that the error bars are small but visible on the graph.\n",
    "\n",
    "• You may neglect February 29th birthdays.\n",
    "\n",
    "• Include a brief (few sentence) commentary on your graph. What’s plotted, and what should the reader see in the plot?"
   ],
   "attachments":{
    
   },
   "metadata":{
    "datalore":{
     "node_id":"30vfPsPFc1QYjDtr290qqY",
     "type":"MD",
     "hide_input_from_viewers":true,
     "hide_output_from_viewers":true
    }
   }
  },
  {
   "cell_type":"code",
   "source":[
    "# Question 2\n",
    "\n",
    "def birthday_simulation(num_people, num_simulations):\n",
    "    \"\"\"Simulate the birthday paradox for a given number of people in a room.\n",
    "\n",
    "    Parameters:\n",
    "    - num_people (int): Number of people in the room.\n",
    "    - num_simulations (int): Number of Monte Carlo simulations to perform.\n",
    "\n",
    "    Returns:\n",
    "    - float: Probability that at least 2 people share a birthday.\"\"\"\n",
    "\n",
    "    shared_birthday_count = 0   # Counter to keep track of how many people share a birthday\n",
    "\n",
    "    # Perform Monte Carlo simulations\n",
    "    for _ in range(num_simulations):\n",
    "        # Simulate birthdays for people in the room (1 to 365, excluding February 29)\n",
    "        birthdays = np.random.randint(1, 366, num_people)\n",
    "        \n",
    "        # Count the unique birthdays\n",
    "        unique_birthdays = len(np.unique(birthdays))\n",
    "        \n",
    "        # If there are shared birthdays, increment the count\n",
    "        if unique_birthdays < num_people:\n",
    "            shared_birthday_count += 1\n",
    "\n",
    "    # Calculate the probability of shared birthdays\n",
    "    probability = shared_birthday_count \/ num_simulations\n",
    "    return probability\n",
    "\n",
    "def plot_birthday_paradox():\n",
    "    \"\"\"Plot the results of the birthday paradox simulations for different numbers of people in the room.\"\"\"\n",
    "\n",
    "    # Set the number of Monte Carlo simulations\n",
    "    num_simulations = 10000\n",
    "\n",
    "    # Initialize lists to store N (number of people) and corresponding probabilities\n",
    "    N_values = list(range(1, 51))\n",
    "    probabilities = []\n",
    "\n",
    "    # Perform simulations for different values of N\n",
    "    for N in N_values:\n",
    "        probability = birthday_simulation(N, num_simulations)\n",
    "        probabilities.append(probability)\n",
    "\n",
    "    # Calculate standard errors (2σ) for the probabilities\n",
    "    std_errors = 2 * np.sqrt(np.array(probabilities) * (1 - np.array(probabilities)) \/ num_simulations)\n",
    "\n",
    "    # Plot the results\n",
    "    plt.errorbar(N_values, probabilities, yerr=std_errors, fmt='o', markersize=3)\n",
    "\n",
    "    # Plot Properties\n",
    "    plt.xlabel('Number of People in the Room')\n",
    "    plt.ylabel('Probability of Shared Birthday')\n",
    "    plt.title('Birthday Paradox Simulation')\n",
    "    plt.grid(True)\n",
    "    plt.show()\n",
    "\n",
    "# Call the helper finction 'plot_birthday_paradox()'\n",
    "plot_birthday_paradox()"
   ],
   "execution_count":11,
   "outputs":[
    {
     "data":{
      "image\/png":"[encoded data removed]"
     },
     "metadata":{
      "image\/png":{
       
      }
     },
     "output_type":"display_data"
    }
   ],
   "metadata":{
    "datalore":{
     "node_id":"Rn0RYspTxOqmuE24qRVOvB",
     "type":"CODE",
     "hide_input_from_viewers":true,
     "hide_output_from_viewers":true
    }
   }
  },
  {
   "cell_type":"markdown",
   "source":[
    "Comments #2\n",
    "-----------------\n",
    "Include a brief (few sentence) commentary on your graph. What’s plotted, and what should the reader see in the plot?\n",
    "\n",
    "\n",
    "<span style=\"color:palevioletred;\"> The graph illustrates the probability of at least two people sharing a birthday as the number of people in the room increases. The error bars represent 2σ uncertainties in the estimates. As the graph shows, the probability rises significantly as more people are added to the room. It's natural to think that there are 365 days in a year, so it should take many more people to have a shared birthday. However, the counterintuitive part is that you don't need a large group for this to be likely. What the reader should observe is a clear upward trend, highlighting the counterintuitive nature of the birthday paradox: it takes fewer people than expected to have a high chance of shared birthdays. This intriguing phenomenon is what the plot effectively communicates."
   ],
   "attachments":{
    
   },
   "metadata":{
    "datalore":{
     "node_id":"9dJQ4qi8HGaAqHLpFJS5h0",
     "type":"MD",
     "hide_input_from_viewers":true,
     "hide_output_from_viewers":true
    }
   }
  },
  {
   "cell_type":"markdown",
   "source":[
    "## Question 3 [4 pts]\n",
    "Use Monte Carlo sampling to estimate the volume of a unit hypersphere of dimension 𝑛 up to 𝑛 =15.\n",
    "Plot the volume versus 𝑛 including 2𝜎 error bars and include the analytic result on the plot. The analytic\n",
    "result in recursive form is:\n",
    "\n",
    "𝑉𝑛 = 1 𝑖𝑓 𝑛 = 0\n",
    "\n",
    "𝑉𝑛 = 2 𝑖𝑓 𝑛 = 1\n",
    " \n",
    "𝑉𝑛 = 2𝜋\/𝑛 * 𝑉𝑛−2 𝑜𝑡ℎ𝑒𝑟𝑤𝑖𝑠𝑒\n",
    "\n",
    "• Choose the number of Monte Carlo iterations for each simulation so that the error bars are small but at least some are visible on the graph.\n",
    "\n",
    "• Include a brief (few sentence) commentary on your graph. What’s plotted, and what should the reader see in the plot?"
   ],
   "attachments":{
    
   },
   "metadata":{
    "datalore":{
     "node_id":"tvKqcFJ5kwUTKBnVorlHP8",
     "type":"MD",
     "hide_input_from_viewers":true,
     "hide_output_from_viewers":true
    }
   }
  },
  {
   "cell_type":"code",
   "source":[
    "# Question 3"
   ],
   "execution_count":null,
   "outputs":[
    
   ],
   "metadata":{
    "datalore":{
     "node_id":"lCtN8mKJBloQA1h3R8YB5S",
     "type":"CODE",
     "hide_input_from_viewers":true,
     "hide_output_from_viewers":true
    }
   }
  },
  {
   "cell_type":"markdown",
   "source":[
    "Comments #3\n",
    "-----------------\n",
    "Include a brief (few sentence) commentary on your graph. What’s plotted, and what should the reader see in the plot?\n",
    "\n",
    "<span style=\"color:palevioletred;\"> stuff"
   ],
   "attachments":{
    
   },
   "metadata":{
    "datalore":{
     "node_id":"MxyeQu4hsebNCsvugOuFZl",
     "type":"MD",
     "hide_input_from_viewers":true,
     "hide_output_from_viewers":true
    }
   }
  },
  {
   "cell_type":"markdown",
   "source":[
    "## Question 4 [4 pts]\n",
    "Define the radius 𝑟 in 𝑛 dimensions as 𝑟 = √∑ 𝑥𝑖\n",
    "2𝑛\n",
    "𝑖=1 .\n",
    "\n",
    "a) [2 pts] Calculate the integral\n",
    "∫ 𝑟(𝑥𝑖)𝑑𝑛𝑥 over the unit hypercube in 3, 4, 10 and 100 dimensions using a simple Monte Carlo integration. Report the standard uncertainty for each estimate, and make sure it’s less than 0.1% of the value. Display your results as a table.\n",
    "\n",
    "b) [1 pt] Repeat part a over the cube extending from 0 to 2 in each dimension.\n",
    "c) [1 pt] If you tried to do part a using a more conventional numerical integration scheme (e.g. rectangle rule or midpoint rule) sampled on a regular grid, what problem would you run into?"
   ],
   "attachments":{
    
   },
   "metadata":{
    "datalore":{
     "node_id":"nZHr2P0G42QnyiWdr6Gubv",
     "type":"MD",
     "hide_input_from_viewers":true,
     "hide_output_from_viewers":true
    }
   }
  },
  {
   "cell_type":"code",
   "source":[
    "# Question 4"
   ],
   "execution_count":null,
   "outputs":[
    
   ],
   "metadata":{
    "datalore":{
     "node_id":"sTRVrRB9RsYrkEVqWCWEek",
     "type":"CODE",
     "hide_input_from_viewers":true,
     "hide_output_from_viewers":true
    }
   }
  },
  {
   "cell_type":"markdown",
   "source":[
    "Comments #4\n",
    "-----------------\n",
    "i) Report the standard uncertainty for each estimate, and make sure it’s less than 0.1% of the value. Display your results as a table.\n",
    "\n",
    "ii) If you tried to do part a using a more conventional numerical integration scheme (e.g. rectangle rule or midpoint rule) sampled on a regular grid, what problem would you run into?\n",
    "\n",
    "<span style=\"color:palevioletred;\"> stuff"
   ],
   "attachments":{
    
   },
   "metadata":{
    "datalore":{
     "node_id":"tiV2XPE28lmaJBAEF3T551",
     "type":"MD",
     "hide_input_from_viewers":true,
     "hide_output_from_viewers":true
    }
   }
  },
  {
   "cell_type":"markdown",
   "source":[
    "## Conclusion\n",
    "\n",
    "<span style=\"color:palevioletred;\"> In conclusion, "
   ],
   "attachments":{
    
   },
   "metadata":{
    "datalore":{
     "node_id":"97WtPVfUxqJgKwV2z6UNdN",
     "type":"MD",
     "hide_input_from_viewers":true,
     "hide_output_from_viewers":true
    }
   }
  }
 ],
 "metadata":{
  "kernelspec":{
   "display_name":"Python",
   "language":"python",
   "name":"python"
  },
  "datalore":{
   "computation_mode":"JUPYTER",
   "package_manager":"pip",
   "base_environment":"default",
   "packages":[
    
   ],
   "report_row_ids":[
    
   ],
   "version":3
  }
 },
 "nbformat":4,
 "nbformat_minor":4
}