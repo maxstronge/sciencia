{
 "cells":[
  {
   "cell_type":"markdown",
   "source":[
    "# PHYS 481 Assignment 7: Diffusion\n",
    "## Nov 28 (11:59 pm)\n",
    "\n",
    "### Monica A. Bellamy (3009896)\n",
    "### Sachin Sharma (30118711)\n",
    "### Max Stronge (30064749) \n",
    "\n",
    "\n",
    "Remember to write an introduction [2 pts] and conclusion [2 pts]."
   ],
   "attachments":{
    
   },
   "metadata":{
    "datalore":{
     "node_id":"jOyOOQy3e6Mlk93ziqUkxO",
     "type":"MD",
     "hide_input_from_viewers":true,
     "hide_output_from_viewers":true
    }
   }
  },
  {
   "cell_type":"code",
   "source":[
    "# Load standard libraries for numerical methods and plotting.\n",
    "import numpy as np\n",
    "from mpl_toolkits.mplot3d import Axes3D\n",
    "import matplotlib.pyplot as plt\n",
    "%matplotlib inline"
   ],
   "execution_count":3,
   "outputs":[
    
   ],
   "metadata":{
    "datalore":{
     "node_id":"RZJwPsvPlAl6UytWHcr48s",
     "type":"CODE",
     "hide_input_from_viewers":true,
     "hide_output_from_viewers":true
    }
   }
  },
  {
   "cell_type":"markdown",
   "source":[
    "## Introduction\n",
    "------------\n",
    "<span style=\"color:palevioletred;\"> In this assignment, we explore the diffusion of nitrogen (N2) within a sealed 10 cm box filled with carbon dioxide (CO2) at room temperature and atmospheric pressure. Through simulations employing a random walk with Gaussian steps and considering reflective or periodic boundaries, we simulate the release of N2 from a middle segment (4 to 6 cm) into the rest of the box over 30 seconds. Additionally, we employ an explicit Euler numerical solution of the Fokker-Planck equation and compare the final N2 density at t=30 seconds with the random walk approach."
   ],
   "attachments":{
    
   },
   "metadata":{
    "datalore":{
     "node_id":"ygCpLDLOdH8ctU7VyXNN4G",
     "type":"MD",
     "hide_input_from_viewers":true,
     "hide_output_from_viewers":true
    }
   }
  },
  {
   "cell_type":"markdown",
   "source":[
    "## Question 1 [5 pts]\n",
    "\n",
    "A 10 cm long box is filled with CO2 at room temperature and atmospheric pressure. The middle portion\n",
    "of the box from 4 to 6 cm is sealed off from the rest of the box, and a trace amount of N2 is injected into\n",
    "the middle section until the N2 density reaches 1010 N2 molecules per cubic cm. The resulting mean free\n",
    "path of the N2 molecules is 67 nm and their average speed is 480 m\/s. Using a random walk with\n",
    "Gaussian steps, simulate what happens when the barriers at 4 and 6 cm are removed. You may either\n",
    "assume that particles that hit the walls at 0 and 10 cm are reflected off the walls (so that a particle that\n",
    "steps to at -0.01 cm is re-introduced to the box at 0.01 cm) or you may use periodic boundaries (so that\n",
    "a particle that steps to at -0.01 cm returns at 9.99 cm). Create a surface plot of the density of N2\n",
    "molecules as a function of time and position as they diffuse into the rest of the box over a period of 30\n",
    "seconds.\n",
    "\n",
    "[HINT: Start developing your code with a small number of particles 𝑁 (perhaps a few hundred) and then\n",
    "increase it when you think your code works. A good target for 𝑁 would be about about 100,000. A good\n",
    "target for the number of timesteps is about 50 steps; use that information and the information in the\n",
    "question to determine the expected width of the Gaussian random walk step.]"
   ],
   "attachments":{
    
   },
   "metadata":{
    "datalore":{
     "node_id":"VYyYkuJbwUUlBgIfvKtDSC",
     "type":"MD",
     "hide_input_from_viewers":true,
     "hide_output_from_viewers":true
    }
   }
  },
  {
   "cell_type":"code",
   "source":[
    "# Question 1"
   ],
   "execution_count":5,
   "outputs":[
    
   ],
   "metadata":{
    "datalore":{
     "node_id":"5jlyXA7KjFbkXknaEB2X68",
     "type":"CODE",
     "hide_input_from_viewers":true,
     "hide_output_from_viewers":true
    }
   }
  },
  {
   "cell_type":"markdown",
   "source":[
    "Comments #1\n",
    "-----------------\n",
    "\n",
    "<span style=\"color:palevioletred;\"> stuff."
   ],
   "attachments":{
    
   },
   "metadata":{
    "datalore":{
     "node_id":"yMwbHcy4B58amN7sohtiS0",
     "type":"MD",
     "hide_input_from_viewers":true,
     "hide_output_from_viewers":true
    }
   }
  },
  {
   "cell_type":"markdown",
   "source":[
    "## Question 2 [5 pts]\n",
    "\n",
    "Repeat question 1 using an explicit Euler numerical solution of the Fokker-Planck equation. Use about\n",
    "100 spatial points and a small enough timestep that the method is stable. Use either periodic boundary\n",
    "conditions or Neumann conditions with d\/dx=0."
   ],
   "attachments":{
    
   },
   "metadata":{
    "datalore":{
     "node_id":"EydSR4yJzzWI78b9UKAI5H",
     "type":"MD",
     "hide_input_from_viewers":true,
     "hide_output_from_viewers":true
    }
   }
  },
  {
   "cell_type":"code",
   "source":[
    "# Question 2"
   ],
   "execution_count":null,
   "outputs":[
    
   ],
   "metadata":{
    "datalore":{
     "node_id":"9o9VDOBbeRLVJ41Ea2pDdW",
     "type":"CODE",
     "hide_input_from_viewers":true,
     "hide_output_from_viewers":true
    }
   }
  },
  {
   "cell_type":"markdown",
   "source":[
    "Comments #2\n",
    "-----------------\n",
    "\n",
    "<span style=\"color:palevioletred;\"> stuff."
   ],
   "attachments":{
    
   },
   "metadata":{
    "datalore":{
     "node_id":"lF4s0xnMSUGWSqJhk5rtct",
     "type":"MD",
     "hide_input_from_viewers":true,
     "hide_output_from_viewers":true
    }
   }
  },
  {
   "cell_type":"markdown",
   "source":[
    "## Question 3 [2 pts]\n",
    "\n",
    "Compare the final N2 density at t=30 seconds from questions 1 and 2"
   ],
   "attachments":{
    
   },
   "metadata":{
    "datalore":{
     "node_id":"KnyXkTCV5D8MVsTyaKG1ia",
     "type":"MD",
     "hide_input_from_viewers":true,
     "hide_output_from_viewers":true
    }
   }
  },
  {
   "cell_type":"code",
   "source":[
    "# Question 3"
   ],
   "execution_count":null,
   "outputs":[
    
   ],
   "metadata":{
    "datalore":{
     "node_id":"SeUwPHNDgCgwajtIypTKzx",
     "type":"CODE",
     "hide_input_from_viewers":true,
     "hide_output_from_viewers":true
    }
   }
  },
  {
   "cell_type":"markdown",
   "source":[
    "Comments #3\n",
    "-----------------\n",
    "\n",
    "<span style=\"color:palevioletred;\"> stuff."
   ],
   "attachments":{
    
   },
   "metadata":{
    "datalore":{
     "node_id":"PA7AcecmolWeYD4dj9PTk4",
     "type":"MD",
     "hide_input_from_viewers":true,
     "hide_output_from_viewers":true
    }
   }
  },
  {
   "cell_type":"markdown",
   "source":[
    "## Conclusion\n",
    "\n",
    "<span style=\"color:palevioletred;\"> stuff."
   ],
   "attachments":{
    
   },
   "metadata":{
    "datalore":{
     "node_id":"8cTrMvp88OdPcdAy8UT6aq",
     "type":"MD",
     "hide_input_from_viewers":true,
     "hide_output_from_viewers":true
    }
   }
  }
 ],
 "metadata":{
  "kernelspec":{
   "display_name":"Python",
   "language":"python",
   "name":"python"
  },
  "datalore":{
   "computation_mode":"JUPYTER",
   "package_manager":"pip",
   "base_environment":"default",
   "packages":[
    
   ],
   "report_row_ids":[
    
   ],
   "version":3
  }
 },
 "nbformat":4,
 "nbformat_minor":4
}