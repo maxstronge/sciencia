{
 "cells": [
  {
   "cell_type": "markdown",
   "metadata": {},
   "source": [
    "# PHYS 481 Practice Quiz\n",
    "\n",
    "Time: Tuesday Nov 7, 16:00-16:50\n",
    "\n",
    "## Instructions\n",
    "\n",
    "Complete all questions below using the computers in the lab. You may recycle code from your assignments on all questions. You may access the following websites and no others:\n",
    "\n",
    "1. https://ucalgary.syzygy.ca/\n",
    "2. https://pythonnumericalmethods.berkeley.edu/\n",
    "3. https://numpy.org/\n",
    "4. https://matplotlib.org/\n",
    "5. https://docs.python.org/\n",
    "6. https://d2l.ucalgary.ca/\n",
    "7. https://gradescope.ca\n",
    "\n",
    "When you are finished the quiz, upload your python notebook using the Gradescope link on D2L (under Content-> Practice Quiz). For the practice quiz, the upload time doesn't matter. For the real quiz, there will be a 2-minute grace period after which submissions will be penalized 30%. Submissions more than 5 minutes late will not be accepted."
   ]
  },
  {
   "cell_type": "code",
   "execution_count": 12,
   "metadata": {},
   "outputs": [],
   "source": [
    "import numpy as np\n",
    "import matplotlib.pyplot as plt\n",
    "import matplotlib\n",
    "from numba import jit\n",
    "%matplotlib inline"
   ]
  },
  {
   "cell_type": "markdown",
   "metadata": {},
   "source": [
    "## Question 1a [2 pts]\n",
    "\n",
    "The functions below are intended to draw and display an image of a yellow smiley face, but are not quite finished. Give the smiley face eyes by editing the code to draw black circles in an appropriate location, then turn the face yellow (100% red, 100% green, 0% blue)."
   ]
  },
  {
   "cell_type": "code",
   "execution_count": 9,
   "metadata": {},
   "outputs": [
    {
     "data": {
      "image/png": "[encoded data removed]",
      "text/plain": [
       "<Figure size 100x100 with 1 Axes>"
      ]
     },
     "metadata": {},
     "output_type": "display_data"
    }
   ],
   "source": [
    "def display_img(img):\n",
    "    \"\"\"\n",
    "    Displays an RGB image. \n",
    "    \"\"\"\n",
    "    dpi = matplotlib.rcParams['figure.dpi']  # dots per inch of the device\n",
    "    height = img.shape[0]\n",
    "    width = img.shape[1]\n",
    "    figsize = width / float(dpi), height / float(dpi)\n",
    "    plt.figure(figsize=figsize)\n",
    "    plt.imshow(img)\n",
    "    \n",
    "def happy_face():\n",
    "    \"\"\"\n",
    "    Returns a 100x100 RGB image of a smiley face. \n",
    "    \"\"\"\n",
    "    # Draw the circle\n",
    "    img=np.zeros((100,100,3))\n",
    "    for i in range(100):\n",
    "        for j in range(100):\n",
    "            if (((i-50)**2+(j-50)**2) < 40*40):\n",
    "                img[i,j,0:3]=1.0\n",
    "\n",
    "    # Draw the mouth\n",
    "    i=np.int32(np.arange(30,70))\n",
    "    j=-(i-50)**2/25/25*10 + 70\n",
    "    j=np.int32(j)\n",
    "    for k in range(5):\n",
    "        img[j+k,i,0:3]=0.0\n",
    "\n",
    "    return img\n",
    "\n",
    "\n",
    "\n",
    "img=happy_face()\n",
    "display_img(img)\n"
   ]
  },
  {
   "cell_type": "markdown",
   "metadata": {},
   "source": [
    "## Question 1b [2 pts]\n",
    "\n",
    "Now apply a Laplacian ($\\nabla^2$) filter with kernel\n",
    "\n",
    "$$ L = \\left[ \\begin{array}{ccc}\n",
    "0 & -1 & 0 \\\\\n",
    "-1 & 4 & -1 \\\\\n",
    "0 & -1 & 0 \\end{array} \\right]  $$\n",
    "\n",
    "to your smiley face image. Display the resulting image. You may recycle code from your assignments on all questions.\n"
   ]
  },
  {
   "cell_type": "code",
   "execution_count": null,
   "metadata": {},
   "outputs": [],
   "source": [
    "img=happy_face()\n",
    "\n",
    "# Apply Laplacian filter here\n",
    "\n",
    "display_img(filtered_image)"
   ]
  },
  {
   "cell_type": "markdown",
   "metadata": {},
   "source": [
    "## Question 2a [4 pts]\n",
    "\n",
    "The ODE for a damped harmonic oscillator is\n",
    "\n",
    "$$m\\ddot x+ c\\dot x+kx=0$$\n",
    "\n",
    "Assume $m$=1 kg, $c$=2 kg/s and $k$=3 kg/${\\rm s}^2$, the initial position is $x(t=0)= 1.0$ m, and the initial velocity is $\\dot x(t=0)$=5.0 m/s. Using the numerical integration scheme of your choice, integrate the equations and plot the position as a function of time for time from 0 to 6 seconds. You may recycle code from your assignments."
   ]
  },
  {
   "cell_type": "code",
   "execution_count": 10,
   "metadata": {},
   "outputs": [],
   "source": [
    "# Setup\n",
    "\n",
    "# Integrate\n",
    "\n",
    "#Plot"
   ]
  },
  {
   "cell_type": "markdown",
   "metadata": {},
   "source": [
    "## Question 2b [2 pts]\n",
    "\n",
    "For the damped harmonic oscillator in question 2b, find an initial velocity $\\dot x(t=0)$ such that $x(t=2 {\\rm s})$=1.0 m. Plot the position as a function of time and report $\\dot x(t=0)$ to at least 3 significant digits. You may perform the shooting-method search for $\\dot x(t=0)$ manually if you wish."
   ]
  },
  {
   "cell_type": "code",
   "execution_count": null,
   "metadata": {},
   "outputs": [],
   "source": [
    "# Setup\n",
    "\n",
    "# Integrate\n",
    "\n",
    "#Plot\n",
    "\n",
    "#Print result\n",
    "print(f\"With the initial velocity {v_init:.3f} m/s, the position at t=1.0 seconds is {x[-1]:.3f} m.\")"
   ]
  },
  {
   "cell_type": "markdown",
   "metadata": {},
   "source": [
    "## Question 3 [4 pts]\n",
    "\n",
    "Find the definite integral\n",
    "\n",
    "$$\\int\\ln(y+2)\\ln(x+1)dxdy$$\n",
    "\n",
    "on the circular domain $x^2+y^2<1$ using Monte Carlo integration. Include an uncertainty estimate."
   ]
  },
  {
   "cell_type": "code",
   "execution_count": null,
   "metadata": {},
   "outputs": [],
   "source": [
    "# Sample the integrand\n",
    "\n",
    "# Calculate the integral and its uncertainty\n",
    "\n",
    "# Print the results\n",
    "print(f'The integral is {integral:.4f} with a standard uncertainty {uncertainty:.4f}.')"
   ]
  }
 ],
 "metadata": {
  "kernelspec": {
   "display_name": "Python 3",
   "language": "python",
   "name": "python3"
  },
  "language_info": {
   "codemirror_mode": {
    "name": "ipython",
    "version": 3
   },
   "file_extension": ".py",
   "mimetype": "text/x-python",
   "name": "python",
   "nbconvert_exporter": "python",
   "pygments_lexer": "ipython3",
   "version": "3.8.2"
  }
 },
 "nbformat": 4,
 "nbformat_minor": 2
}
