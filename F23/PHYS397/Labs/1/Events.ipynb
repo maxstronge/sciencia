{
 "cells": [
  {
   "cell_type": "code",
   "execution_count": 11,
   "id": "fd30f942-b91f-4f8d-83be-7ed3884ca6e6",
   "metadata": {},
   "outputs": [
    {
     "data": {
      "text/plain": [
       "<matplotlib.legend.Legend at 0x7fba4bd8d410>"
      ]
     },
     "execution_count": 11,
     "metadata": {},
     "output_type": "execute_result"
    },
    {
     "data": {
      "image/png": "[encoded data removed]",
      "text/plain": [
       "<Figure size 640x480 with 1 Axes>"
      ]
     },
     "metadata": {},
     "output_type": "display_data"
    }
   ],
   "source": [
    "import pandas as pd\n",
    "import numpy as np\n",
    "import matplotlib.pyplot as plt\n",
    "\n",
    "fileName = \"DATASET_1.txt.TXT\" # RELATIVE PATH OF THE CHOSEN DATA SET \n",
    "fileName1 = \"DATASET_3_S.txt.TXT\" # RELATIVE PATH OF THE CHOSEN DATA SET \n",
    "\n",
    "\n",
    "filePD = pd.read_csv(fileName, skiprows = 19, names = ['Entry','ArdTime','ADC', 'SiPM', 'Deadtime', 'Temp'], lineterminator='\\n', sep='\\s+', encoding = 'unicode_escape', engine ='python')\n",
    "filePD.ArdTime = filePD.ArdTime/1000 # converting the ArdTime column from milliseconds to seconds\n",
    "\n",
    "filePD.Deadtime = filePD.Deadtime/1000 # converting the Deadtime column from milliseconds to seconds\n",
    "\n",
    "\n",
    "''' ADJUSTABLE VALUES '''\n",
    "\n",
    "x_min = 0 # Minimum range of the histogram\n",
    "\n",
    "x_max = 400 # Maximum range of the histogram\n",
    "\n",
    "bins = 100 # Number of histogram bins\n",
    "\n",
    "#bins = np.arange(min(filePD.ArdTime), max(filePD.ArdTime) + 10, 10) #or specify the size of the bins in seconds\n",
    "\n",
    "density = False # True: Normallized plot || False: Non-normallized plot\n",
    "\n",
    "x_range = [x_min, x_max] # Histogram plot range\n",
    "\n",
    "x_label = 'Time (s)' # label for the x axis\n",
    "\n",
    "y_label = 'events' # label for the y axis\n",
    "\n",
    "\n",
    "''' CALCULATIONS '''\n",
    "\n",
    "ardtime_array = np.array(filePD.ArdTime) # Numpy array of entry time values\n",
    "\n",
    "event_number = len(ardtime_array[(ardtime_array >= x_min) & (ardtime_array <= x_max)]) # Get the number of events within the plot range\n",
    "\n",
    "\n",
    "''' PLOTTING CODE '''\n",
    "\n",
    "plt.figure(figsize=(8, 6), dpi=80)\n",
    "\n",
    "plt.hist(filePD.ArdTime, bins, range = x_range, density = density, label= \"Dataset 1\") # establish the histogram plot\n",
    "\n",
    "\n",
    "plt.xlabel(\"Time (s)\") # x axis label\n",
    "\n",
    "plt.ylabel(\"Number of events per 10 s\") # y axis label\n",
    "\n",
    "plt.xlim(x_range) # the graph's domain\n",
    "\n",
    "plt.savefig(\"output\")\n",
    "\n",
    "filePD = pd.read_csv(fileName1, skiprows = 19, names = ['Entry','ArdTime','ADC', 'SiPM', 'Deadtime', 'Temp'], lineterminator='\\n', sep='\\s+', encoding = 'unicode_escape', engine ='python')\n",
    "\n",
    "filePD.ArdTime = filePD.ArdTime/1000 # converting the ArdTime column from milliseconds to seconds\n",
    "\n",
    "filePD.Deadtime = filePD.Deadtime/1000 # converting the Deadtime column from milliseconds to seconds\n",
    "\n",
    "plt.hist(filePD.ArdTime, bins, range = x_range, density = density, label= \"Dataset 3\") # establish the histogram plot\n",
    "\n",
    "\n",
    "plt.legend(loc=\"upper right\")\n",
    "\n"
   ]
  },
  {
   "cell_type": "code",
   "execution_count": null,
   "id": "be582a91-04a4-4e2d-ad5e-a3ebe7ef55c9",
   "metadata": {},
   "outputs": [],
   "source": []
  }
 ],
 "metadata": {
  "kernelspec": {
   "display_name": "Python 3 (ipykernel)",
   "language": "python",
   "name": "python3"
  },
  "language_info": {
   "codemirror_mode": {
    "name": "ipython",
    "version": 3
   },
   "file_extension": ".py",
   "mimetype": "text/x-python",
   "name": "python",
   "nbconvert_exporter": "python",
   "pygments_lexer": "ipython3",
   "version": "3.11.4"
  }
 },
 "nbformat": 4,
 "nbformat_minor": 5
}
