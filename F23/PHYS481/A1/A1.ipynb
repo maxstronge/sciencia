{
 "cells": [
  {
   "cell_type": "markdown",
   "metadata": {},
   "source": [
    "# Assignment 1: Numerical Differentiation\n",
    "## PHYS481 - Computational Physics II\n",
    "### Max Stronge (30064749)\n",
    "\n",
    "\n",
    "## Introduction\n",
    "\n",
    "Introduce the assignment here. What are you trying to do and why? This can be brief (a few sentences).\n",
    "\n",
    "**Rubric:**\n",
    "- 2 points total for the introduction.\n",
    "- Completely missing: 0 points\n",
    "- Inadequate/problematic: 1 point (eg. “In this assignment I answered the questions”)\n",
    "\n",
    "\n",
    "## Question 1\n",
    "Plot the orbits for THEMIS-D, during the day 2023/07/31, both as a function of time (in hours) and as position in the XY and XZ planes. For the position, use units of Earth radii ($R_E$). Plot the Earth on the XY and YZ plots.\n"
   ]
  },
  {
   "cell_type": "code",
   "execution_count": 1,
   "metadata": {},
   "outputs": [],
   "source": [
    "# standard package import\n",
    "import numpy as np\n",
    "import matplotlib.pyplot as plt\n",
    "%matplotlib inline\n",
    "\n",
    "# definition of constants (https://nssdc.gsfc.nasa.gov/planetary/factsheet/earthfact.html)\n",
    "earth_radius = 6378.137 #km\n",
    "\n",
    "satellite_name = 'themisd'\n",
    "\n"
   ]
  },
  {
   "cell_type": "code",
   "execution_count": 13,
   "metadata": {},
   "outputs": [
    {
     "name": "stdout",
     "output_type": "stream",
     "text": [
      "['User:', 'sscweb']\n"
     ]
    },
    {
     "ename": "NameError",
     "evalue": "name 'time' is not defined",
     "output_type": "error",
     "traceback": [
      "\u001b[1;31m---------------------------------------------------------------------------\u001b[0m",
      "\u001b[1;31mNameError\u001b[0m                                 Traceback (most recent call last)",
      "\u001b[1;32mc:\\Users\\maxst\\Documents\\Schoolwork\\PHYS481\\A1\\A1.ipynb Cell 3\u001b[0m line \u001b[0;36m3\n\u001b[0;32m     <a href='vscode-notebook-cell:/c%3A/Users/maxst/Documents/Schoolwork/PHYS481/A1/A1.ipynb#W2sZmlsZQ%3D%3D?line=33'>34</a>\u001b[0m     \u001b[39mprint\u001b[39m(data_string)\n\u001b[0;32m     <a href='vscode-notebook-cell:/c%3A/Users/maxst/Documents/Schoolwork/PHYS481/A1/A1.ipynb#W2sZmlsZQ%3D%3D?line=34'>35</a>\u001b[0m     \u001b[39mreturn\u001b[39;00m \n\u001b[1;32m---> <a href='vscode-notebook-cell:/c%3A/Users/maxst/Documents/Schoolwork/PHYS481/A1/A1.ipynb#W2sZmlsZQ%3D%3D?line=36'>37</a>\u001b[0m read_orbit_file(\u001b[39mr\u001b[39;49m\u001b[39m\"\u001b[39;49m\u001b[39mC:\u001b[39;49m\u001b[39m\\\u001b[39;49m\u001b[39mUsers\u001b[39;49m\u001b[39m\\\u001b[39;49m\u001b[39mmaxst\u001b[39;49m\u001b[39m\\\u001b[39;49m\u001b[39mDocuments\u001b[39;49m\u001b[39m\\\u001b[39;49m\u001b[39mSchoolwork\u001b[39;49m\u001b[39m\\\u001b[39;49m\u001b[39mPHYS481\u001b[39;49m\u001b[39m\\\u001b[39;49m\u001b[39mA1\u001b[39;49m\u001b[39m\\\u001b[39;49m\u001b[39mthemisd_NASA_datadump.txt\u001b[39;49m\u001b[39m\"\u001b[39;49m)\n",
      "\u001b[1;32mc:\\Users\\maxst\\Documents\\Schoolwork\\PHYS481\\A1\\A1.ipynb Cell 3\u001b[0m line \u001b[0;36m2\n\u001b[0;32m     <a href='vscode-notebook-cell:/c%3A/Users/maxst/Documents/Schoolwork/PHYS481/A1/A1.ipynb#W2sZmlsZQ%3D%3D?line=23'>24</a>\u001b[0m \u001b[39mwith\u001b[39;00m \u001b[39mopen\u001b[39m(filename, \u001b[39m'\u001b[39m\u001b[39mr\u001b[39m\u001b[39m'\u001b[39m) \u001b[39mas\u001b[39;00m f:\n\u001b[0;32m     <a href='vscode-notebook-cell:/c%3A/Users/maxst/Documents/Schoolwork/PHYS481/A1/A1.ipynb#W2sZmlsZQ%3D%3D?line=24'>25</a>\u001b[0m     \u001b[39mfor\u001b[39;00m line \u001b[39min\u001b[39;00m f:\n\u001b[1;32m---> <a href='vscode-notebook-cell:/c%3A/Users/maxst/Documents/Schoolwork/PHYS481/A1/A1.ipynb#W2sZmlsZQ%3D%3D?line=25'>26</a>\u001b[0m         parse_data_row(line)\n\u001b[0;32m     <a href='vscode-notebook-cell:/c%3A/Users/maxst/Documents/Schoolwork/PHYS481/A1/A1.ipynb#W2sZmlsZQ%3D%3D?line=26'>27</a>\u001b[0m         \u001b[39mbreak\u001b[39;00m\n\u001b[0;32m     <a href='vscode-notebook-cell:/c%3A/Users/maxst/Documents/Schoolwork/PHYS481/A1/A1.ipynb#W2sZmlsZQ%3D%3D?line=29'>30</a>\u001b[0m \u001b[39m# find the second instance of the satellite_name in datastring and remove everything before it\u001b[39;00m\n",
      "\u001b[1;32mc:\\Users\\maxst\\Documents\\Schoolwork\\PHYS481\\A1\\A1.ipynb Cell 3\u001b[0m line \u001b[0;36m1\n\u001b[0;32m      <a href='vscode-notebook-cell:/c%3A/Users/maxst/Documents/Schoolwork/PHYS481/A1/A1.ipynb#W2sZmlsZQ%3D%3D?line=7'>8</a>\u001b[0m \u001b[39mprint\u001b[39m(data_list)\n\u001b[0;32m     <a href='vscode-notebook-cell:/c%3A/Users/maxst/Documents/Schoolwork/PHYS481/A1/A1.ipynb#W2sZmlsZQ%3D%3D?line=9'>10</a>\u001b[0m \u001b[39m# return the data as a tuple\u001b[39;00m\n\u001b[1;32m---> <a href='vscode-notebook-cell:/c%3A/Users/maxst/Documents/Schoolwork/PHYS481/A1/A1.ipynb#W2sZmlsZQ%3D%3D?line=10'>11</a>\u001b[0m \u001b[39mreturn\u001b[39;00m (time, position, velocity)\n",
      "\u001b[1;31mNameError\u001b[0m: name 'time' is not defined"
     ]
    }
   ],
   "source": [
    "def validate_data_row(data_row):\n",
    "    '''\n",
    "    Check that given row is valid data instead of extra information. Returns true or false.\n",
    "\n",
    "    '''\n",
    "\n",
    "    # check the first 8 characters to see if the string exactly matches the right date (\"2023 212\") - if the string starts with anything else, return false\n",
    "    if data_row[0:8] == \"2023 212\":\n",
    "        return True\n",
    "    else:\n",
    "        return False\n",
    "    \n",
    "\n",
    "\n",
    "def parse_data_row(data_row):\n",
    "    '''\n",
    "    Parse a single line of data from the NASA data dump, returning time and position data\n",
    "    '''\n",
    "    # split the data row into a list of strings\n",
    "    data_list = data_row.split()\n",
    "    \n",
    "    print(data_list)\n",
    "    \n",
    "    # return the data as a tuple\n",
    "    return (time, position, velocity)\n",
    "\n",
    "def read_orbit_file(filename):\n",
    "    '''\n",
    "    Read and parse the data extract from NASA. Return numpy arrays for position and time for use in plotting functions.filename parameter should be full path to data file.\n",
    "    '''\n",
    "\n",
    "    # Load text file and parse it to extract the time and position data into numpy arrays.\n",
    "    \n",
    "    # init empty string to store lines\n",
    "    data_string = \"\"\n",
    " \n",
    "    # read all lines into data string\n",
    "    with open(filename, 'r') as f:\n",
    "        for line in f:\n",
    "            parse_data_row(line)\n",
    "            break\n",
    "\n",
    "    \n",
    "    # find the second instance of the satellite_name in datastring and remove everything before it\n",
    "    data_string = data_string[data_string.find(satellite_name, data_string.find(satellite_name)+1):]\n",
    "\n",
    "\n",
    "    print(data_string)\n",
    "    return \n",
    "    \n",
    "read_orbit_file(r\"C:\\Users\\maxst\\Documents\\Schoolwork\\PHYS481\\A1\\themisd_NASA_datadump.txt\")"
   ]
  },
  {
   "cell_type": "markdown",
   "metadata": {},
   "source": [
    "You must include a comment about your results. The comment should walk a reader through what you see in your plots. Don't assume your reader sees anything of value in your plots; **tell them** what they should see. For example, this question asks you to plot a satellite orbit. Walk your reader through some of the features you see in the orbit. (Roughly when does perigee and apogee occur? Roughly what is the perigee and apogee distance? What shape is the orbit?) State why or why not you think your plot looks like a plausible satellite orbit. Don't assume the reader sees any of that immediately.\n",
    "\n",
    "**Rubric for questions:** Start with 5 points total. Points are deducted as follows until 0.\n",
    "- graphing: proper axis labels, titles, legends, uncluttered, etc.\n",
    "    - one minor: -1/2\n",
    "    - multiple: -1\n",
    "- code commenting: docstrings and inline comments\n",
    "    - missing one: -1/2\n",
    "    - missing many: -1\n",
    "- duplicated code that should be in functions\n",
    "    - several repeated blocks of multiple lines: -1/2\n",
    "    - no attempt to remove many redundancies: -1\n",
    "- comments on results:\n",
    "    - missing: -2\n",
    "    - inadequate: -1\n",
    "- numerical/calculation/conceptual errors\n",
    "    - one minor: -1\n",
    "    - multiple minor or one major -2\n",
    "    - multiple major: -2 or -3.\n",
    "\n",
    "\n",
    "\n",
    "\n",
    "-------------------\n"
   ]
  },
  {
   "cell_type": "markdown",
   "metadata": {},
   "source": [
    "## Question 2\n",
    "\n",
    " How closely does the data from question 1 demonstrate conservation of energy (gravitational potential+kinetic energy per unit mass)? Assume a simple $1/r$ gravitational potential for the Earth. Use a forward finite difference scheme when computing the kinetic energy. You may drop the edge points. Be careful of the sign on the potential.\n",
    "\n",
    "   a. Plot the kinetic energy per unit mass, the potential energy per unit mass, and their sum (the total energy per unit mass) on the same plot as a function of time.\n",
    "\n",
    "   b. Plot just the total energy per unit mass (KE+PE) on its own plot. \n",
    "\n",
    "   c. Comment on your plots. Do they demonstrate conservation of energy? If not, what do you think the problem might be?"
   ]
  },
  {
   "cell_type": "code",
   "execution_count": 14,
   "metadata": {},
   "outputs": [],
   "source": [
    "def q2_plots(time,position):\n",
    "    '''\n",
    "    Create the plots required for question 2: kinetic and potential energy per unit mass.\n",
    "    '''\n",
    "    #Calculate the velocity, speed (in m/s) and kinetic energy\n",
    "    \n",
    "\n",
    "q2_plots(time,position)\n"
   ]
  },
  {
   "cell_type": "markdown",
   "metadata": {},
   "source": [
    "Include your comments here. What did you plot? Does it demonstrate conservation of energy? Why or why not? If not, what happened?\n",
    "\n",
    "Question 2 is also worth 5 points, using the same rubric.\n",
    "\n",
    "---------"
   ]
  },
  {
   "cell_type": "markdown",
   "metadata": {},
   "source": [
    "## Question 3\n",
    "\n",
    " Repeat question 2 using 3-point, 5-point and 7-point central finite difference estimators to compute the kinetic energy."
   ]
  },
  {
   "cell_type": "code",
   "execution_count": 15,
   "metadata": {},
   "outputs": [],
   "source": [
    "def q3_plots(time,position):\n",
    "    '''\n",
    "    Create the plots required for question 3: total energy using 3,5 and 7-point stencils.\n",
    "    '''\n",
    "\n",
    "q3_plots(time,position)\n"
   ]
  },
  {
   "cell_type": "markdown",
   "metadata": {},
   "source": [
    "Include your comments here. What did you plot? Does it demonstrate conservation of energy? Why or why not? If not, what happened?\n",
    "\n",
    "Question 3 is also worth 5 points, using the same rubric.\n",
    "\n",
    "---------"
   ]
  },
  {
   "cell_type": "markdown",
   "metadata": {},
   "source": [
    "## Question 4\n",
    "\n",
    "The Earth is not exactly spherical (mostly because it rotates), and the gravitational potential is therefore not strictly the same as for a point mass (a monopole). A more accurate representation for the Earth's gravitational potential is\n",
    "\n",
    "$$\\phi=-\\frac{\\mu}{r}+\\frac{J_2}{2r^5}(3 z^2-r^2)$$\n",
    "\n",
    "with $\\mu=3.98600440 \\times 10^{14}  {\\rm m^3/s^2}$, $J_2=1.75553 \\times 10^{25} {\\rm m^5/s^2}$, $r$ the radial distance and $z$ the distance above the equator (z in the GEI system). How well is energy conserved using this more accurate model for the gravitational potential and a 7-point stencil for the kinetic energy?"
   ]
  },
  {
   "cell_type": "code",
   "execution_count": 16,
   "metadata": {},
   "outputs": [],
   "source": [
    "def q4_plots(time,position):\n",
    "    '''\n",
    "    Create the plots required for question 4: total energy with a 7-point stencil and a 2-term gravitational field model.\n",
    "    '''\n",
    "q4_plots(time,position)"
   ]
  },
  {
   "cell_type": "markdown",
   "metadata": {},
   "source": [
    "Include your comments here. What did you plot? Does it demonstrate conservation of energy? Why or why not? If not, what happened?\n",
    "\n",
    "Question 4 is also worth 5 points, using the same rubric.\n",
    "\n",
    "---------"
   ]
  },
  {
   "cell_type": "markdown",
   "metadata": {},
   "source": [
    "## Conclusions\n",
    "\n",
    "What did you do? How does it all fit together? What was the point of the assignment? Did it show anything important about computational methods? Did you learn anything?\n",
    "\n",
    "**Rubric:**\n",
    "- 2 points total for the conclusion.\n",
    "- Completely missing: 0 points\n",
    "- Inadequate/problematic: 1 point (eg. “In this assignment I answered the questions”)\n",
    "\n"
   ]
  }
 ],
 "metadata": {
  "kernelspec": {
   "display_name": "Python 3",
   "language": "python",
   "name": "python3"
  },
  "language_info": {
   "codemirror_mode": {
    "name": "ipython",
    "version": 3
   },
   "file_extension": ".py",
   "mimetype": "text/x-python",
   "name": "python",
   "nbconvert_exporter": "python",
   "pygments_lexer": "ipython3",
   "version": "3.8.10"
  },
  "orig_nbformat": 4,
  "vscode": {
   "interpreter": {
    "hash": "82218ed3a08be3e6ed8a57103c9133f4fa8c68ae64f8917d9f84e1c6ad7febd6"
   }
  }
 },
 "nbformat": 4,
 "nbformat_minor": 2
}
